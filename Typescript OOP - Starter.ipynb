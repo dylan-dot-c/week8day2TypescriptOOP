{
 "cells": [
  {
   "cell_type": "markdown",
   "id": "1644759d",
   "metadata": {},
   "source": [
    "[Object Oriented Programming](#oop)<br>\n",
    "&emsp;[Classes](#classes)<br>\n",
    "&emsp;&emsp;[Read Only Properties](#rop)<br>\n",
    "&emsp;&emsp;[Optional Properties](#op)<br>\n",
    "&emsp;&emsp;[Access Modifiers](#access)<br>\n",
    "&emsp;&emsp;[Declaring Properties in Constructor](#conprop)<br>\n",
    "&emsp;&emsp;[Getters](#getter)<br>\n",
    "&emsp;&emsp;[Setters](#setter)<br>\n",
    "&emsp;&emsp;[Index Signatures](#idxsign)<br>\n",
    "&emsp;&emsp;[Static](#static)<br>\n",
    "&emsp;[Inheritance](#inherit)<br>\n",
    "&emsp;&emsp;[Method Overrides](#methover)<br>\n",
    "&emsp;&emsp;[Override Keyword](#overrride)<br>\n",
    "&emsp;&emsp;[Polymorphism](#polym)<br>\n",
    "&emsp;[Design Patterns](#dp)<br>\n",
    "&emsp;[Abstract Classes](#abs)<br>\n",
    "&emsp;&emsp;[Flying Ducks](#fly)<br>\n",
    "&emsp;&emsp;[Decoy Ducks](#decoy)<br>\n",
    "&emsp;&emsp;[Exercise #1](#ice1)<br>\n",
    "&emsp;[Interfaces](#interfaces)<br>\n",
    "&emsp;&emsp;[Exercise #2](#ice2)<br>\n",
    "&emsp;&emsp;[Rubber Duck / Final Pattern](#rubber)<br>\n",
    "&emsp;&emsp;[More On Polymorphism](#mpoly)<br>\n",
    "&emsp;&emsp;[Programming to Interface](#ptoi)<br>\n",
    "&emsp;&emsp;[Extending Interfaces](#xi)<br>\n",
    "[Generics](#gen)<br>\n",
    "&emsp;[Generic Functions](#gf)<br>\n",
    "&emsp;[Generic Classes](#gc)<br>\n",
    "&emsp;[Multiple Generics](#mg)<br>\n",
    "&emsp;[Generic Interfaces](#gi)<br>\n",
    "&emsp;[Generic Constraints](#gcon)<br>\n",
    "&emsp;[keyof](#keyof)<br>\n",
    "&emsp;[Type Mapping](#typemap)<br>\n",
    "&emsp;[Optional&lt;T&gt;](#optgen)<br>\n",
    "&emsp;[Read Only&lt;T&gt;](#rogen)<br>\n",
    "&emsp;[Built In Utility Classes](#util)<br>\n",
    "[Homework](#hw)<br>\n",
    "\n",
    "\n",
    "\n",
    "\n",
    "\n",
    "\n",
    "\n",
    "\n",
    "\n",
    "\n",
    "\n",
    "\n"
   ]
  },
  {
   "cell_type": "markdown",
   "id": "910c27b6",
   "metadata": {},
   "source": [
    "<a id=\"oop\"></a>\n",
    "# Object Oriented Programming"
   ]
  },
  {
   "cell_type": "markdown",
   "id": "fa6b48ea",
   "metadata": {},
   "source": [
    "Object-oriented programming (OOP) is a programming paradigm that focuses on the organization and manipulation of data as objects, rather than simply processing logic or functions. Good OOP practices involve designing reusable and extensible code by creating classes, interfaces, and abstract classes.\n",
    "\n",
    "While some programming languages like Java are purely OOP, others like Typescript combine OOP principles with scripting capabilities. In OOP, a model is designed to represent a real-life entity, and then that model is used to create different but similar objects. For example, a Car can be considered a model that defines the properties and behaviors of a generic car, and a specific car like a Ford Ranger can be an instance of that model that behaves like all other cars but may have its own unique characteristics."
   ]
  },
  {
   "cell_type": "markdown",
   "id": "becd1b0e",
   "metadata": {},
   "source": [
    "<a id=\"classes\"></a>\n",
    "\n",
    "## Classes"
   ]
  },
  {
   "cell_type": "markdown",
   "id": "1d92e4d7",
   "metadata": {},
   "source": [
    "To define the types of your properties, you write them at the top of the class and then using the `this` keyword you can assign them in the constructor"
   ]
  },
  {
   "cell_type": "code",
   "execution_count": 1,
   "id": "f5ee7e3a",
   "metadata": {},
   "outputs": [
    {
     "name": "stderr",
     "output_type": "stream",
     "text": [
      "5:14 - Property 'make' does not exist on type 'Car'.\n"
     ]
    }
   ],
   "source": [
    "class Car {\n",
    "    \n",
    "    \n",
    "    constructor(make:string, modal:string, year: number) {\n",
    "        this.make = make\n",
    "    }\n",
    "}"
   ]
  },
  {
   "cell_type": "code",
   "execution_count": 7,
   "id": "c21d23f4",
   "metadata": {},
   "outputs": [],
   "source": [
    "class Car {\n",
    "    readonly id: number\n",
    "    make: string\n",
    "    model: string\n",
    "    year: number\n",
    "    \n",
    "    constructor(id: number, make:string, model:string, year: number) {\n",
    "        this.id = id\n",
    "        this.make = make\n",
    "        this.model = model\n",
    "        this.year = year\n",
    "    }\n",
    "    \n",
    "    drive(miles: number):void {\n",
    "        console.log(`The ${this.year} ${this.make} ${this.model} drove for ${miles}`)\n",
    "    }\n",
    "}"
   ]
  },
  {
   "cell_type": "code",
   "execution_count": 9,
   "id": "e9f524a3",
   "metadata": {},
   "outputs": [
    {
     "name": "stdout",
     "output_type": "stream",
     "text": [
      "Car { id: \u001b[33m1\u001b[39m, make: \u001b[32m'Deloarn'\u001b[39m, model: \u001b[32m'DMC-12'\u001b[39m, year: \u001b[33m2020\u001b[39m }\n"
     ]
    }
   ],
   "source": [
    "let delorean2 = new Car(1, \"Deloarn\", \"DMC-12\", 2020)\n",
    "delorean2"
   ]
  },
  {
   "cell_type": "code",
   "execution_count": null,
   "id": "8934753c",
   "metadata": {},
   "outputs": [],
   "source": []
  },
  {
   "cell_type": "code",
   "execution_count": null,
   "id": "484fc83e",
   "metadata": {},
   "outputs": [],
   "source": []
  },
  {
   "cell_type": "markdown",
   "id": "98568e5d",
   "metadata": {},
   "source": [
    "<a id=\"rop\"></a>\n",
    "\n",
    "### Read Only Properties"
   ]
  },
  {
   "cell_type": "markdown",
   "id": "7759c095",
   "metadata": {},
   "source": [
    "Since IDs should never change lets make a readonly ID on our Car Class"
   ]
  },
  {
   "cell_type": "code",
   "execution_count": null,
   "id": "d39d6a03",
   "metadata": {},
   "outputs": [],
   "source": [
    "class Car {\n",
    "    readonly id: number\n",
    "    make: string\n",
    "    model: string\n",
    "    year: number\n",
    "    \n",
    "    constructor(id: number, make:string, model:string, year: number) {\n",
    "        this.id = id\n",
    "        this.make = make\n",
    "        this.model = model\n",
    "        this.year = year\n",
    "    }\n",
    "    \n",
    "    drive(miles: number):void {\n",
    "        console.log(`The ${this.year} ${this.make} ${this.model} drove for ${miles}`)\n",
    "    }\n",
    "}"
   ]
  },
  {
   "cell_type": "code",
   "execution_count": 10,
   "id": "86fd9ee0",
   "metadata": {},
   "outputs": [
    {
     "name": "stdout",
     "output_type": "stream",
     "text": [
      "Car { id: \u001b[33m1\u001b[39m, make: \u001b[32m'Deloarn'\u001b[39m, model: \u001b[32m'DMC-12'\u001b[39m, year: \u001b[33m2020\u001b[39m }\n"
     ]
    }
   ],
   "source": [
    "let delorean3 = new Car(1, \"Deloarn\", \"DMC-12\", 2020)\n",
    "delorean3"
   ]
  },
  {
   "cell_type": "code",
   "execution_count": null,
   "id": "c8ad3704",
   "metadata": {},
   "outputs": [],
   "source": []
  },
  {
   "cell_type": "code",
   "execution_count": null,
   "id": "711e2d95",
   "metadata": {},
   "outputs": [],
   "source": []
  },
  {
   "cell_type": "markdown",
   "id": "bf661f70",
   "metadata": {},
   "source": [
    "<a id=\"op\"></a>\n",
    "\n",
    "### Optional Properties"
   ]
  },
  {
   "cell_type": "markdown",
   "id": "e22c270c",
   "metadata": {},
   "source": [
    "Lets make the car have an optional nickname like Kitt, or Herbie.  Not every car will have such a cool nickname"
   ]
  },
  {
   "cell_type": "code",
   "execution_count": 13,
   "id": "dc729b95",
   "metadata": {},
   "outputs": [],
   "source": [
    "class Car {\n",
    "    readonly id: number\n",
    "    make: string\n",
    "    model: string\n",
    "    year: number\n",
    "    nickname?: string\n",
    "    \n",
    "    constructor(id: number, make:string, model:string, year: number, nickname?:string) {\n",
    "        this.id = id\n",
    "        this.make = make\n",
    "        this.model = model\n",
    "        this.year = year\n",
    "        this.nickname = nickname\n",
    "    }\n",
    "    \n",
    "    drive(miles: number):void {\n",
    "        console.log(`The ${this.year} ${this.make} ${this.model} drove for ${miles}`)\n",
    "    }\n",
    "}"
   ]
  },
  {
   "cell_type": "code",
   "execution_count": 14,
   "id": "eddfdaa8",
   "metadata": {},
   "outputs": [
    {
     "name": "stdout",
     "output_type": "stream",
     "text": [
      "Car {\n",
      "  id: \u001b[33m1\u001b[39m,\n",
      "  make: \u001b[32m'Deloarn'\u001b[39m,\n",
      "  model: \u001b[32m'DMC-12'\u001b[39m,\n",
      "  year: \u001b[33m2020\u001b[39m,\n",
      "  nickname: \u001b[90mundefined\u001b[39m\n",
      "}\n"
     ]
    }
   ],
   "source": [
    "let delorean4 = new Car(1, \"Deloarn\", \"DMC-12\", 2020)\n",
    "delorean4"
   ]
  },
  {
   "cell_type": "code",
   "execution_count": 17,
   "id": "e63615e1",
   "metadata": {},
   "outputs": [
    {
     "name": "stdout",
     "output_type": "stream",
     "text": [
      "Car {\n",
      "  id: \u001b[33m1\u001b[39m,\n",
      "  make: \u001b[32m'Deloarn'\u001b[39m,\n",
      "  model: \u001b[32m'DMC-12'\u001b[39m,\n",
      "  year: \u001b[33m2020\u001b[39m,\n",
      "  nickname: \u001b[32m'SuperCar'\u001b[39m\n",
      "}\n"
     ]
    }
   ],
   "source": [
    "let delorean5 = new Car(1, \"Deloarn\", \"DMC-12\", 2020,\"SuperCar\")\n",
    "delorean5"
   ]
  },
  {
   "cell_type": "code",
   "execution_count": null,
   "id": "a805db9f",
   "metadata": {},
   "outputs": [],
   "source": []
  },
  {
   "cell_type": "markdown",
   "id": "ec97d010",
   "metadata": {},
   "source": [
    "<a id=\"access\"></a>\n",
    "\n",
    "### Access Control keywords"
   ]
  },
  {
   "cell_type": "markdown",
   "id": "17233b3a",
   "metadata": {},
   "source": [
    "Access Control keywords are used in many languages, and TypeScript uses the most common three `public`, `protected`, `private`.  These access modifiers tell the computer what can access and modify the property/method.\n",
    "\n",
    "`public` -- this property is available  anywhere.  If no access modifier is used, the property defaults to public\n",
    "\n",
    "`protected` -- this property can be used within the class and within the derived classes, but not from outside the class\n",
    "\n",
    "`private`  -- this property can only be used from within the class that declared it.\n",
    "\n",
    "These access modifiers are the key to a concept known and <b>encapsulation</b>. This is basically the idea of data hiding to prevent properties from being modified or used by people/programs that it shouldn't be used by, or to control the modifications of these properties."
   ]
  },
  {
   "cell_type": "markdown",
   "id": "45a2174f",
   "metadata": {},
   "source": [
    "<b>Now</b> Lets assign some private and public access modifiers"
   ]
  },
  {
   "cell_type": "code",
   "execution_count": null,
   "id": "52683d48",
   "metadata": {},
   "outputs": [],
   "source": [
    "// Python API Wrapper example - Does not actually work!!!!\n",
    "// Example shows encapsulation. The people using the program don't \n",
    "// actually use the _get method. \n",
    "\n",
    "class APIWrapper:\n",
    "    def _get(self, data):\n",
    "        url = 'www.someurl.com/'+data\n",
    "        res = requests.get(url)\n",
    "        return res.json()\n",
    "\n",
    "    def get_pokemon(self, poke_name):\n",
    "        data = self._get(poke_name)\n",
    "        pokemon = Pokemon(data)\n",
    "        return pokemon\n",
    "\n",
    "    def get_berry(self, berry_name):\n",
    "        data = self._get(berry_name)\n",
    "        berry = Berry(data)\n",
    "        return berry\n",
    "\n",
    "\n",
    "\n",
    "\n",
    "\n",
    "client = APIWrapper()\n",
    "pikachu = client.get_pokemon('pikachu');\n",
    "cheri = client.get_berry('cheri');\n",
    "\n"
   ]
  },
  {
   "cell_type": "code",
   "execution_count": 21,
   "id": "d32c9106",
   "metadata": {},
   "outputs": [],
   "source": [
    "class Car {\n",
    "    private readonly id: number\n",
    "    public make: string\n",
    "    public model: string\n",
    "    public year: number\n",
    "    public nickname?: string\n",
    "        \n",
    "    constructor(make:string, model:string, year:number, nickname?:string) {\n",
    "        this.id = Math.floor(Math.random()*1000)\n",
    "        this.make = make\n",
    "        this.model = model\n",
    "        this.year = year\n",
    "        this.nickname = nickname\n",
    "    }\n",
    "    \n",
    "    drive(miles: number) {\n",
    "        console.log(`The ${this.year} ${this.make} ${this.model} drove for ${miles}`)\n",
    "    }\n",
    "    \n",
    "// Add another method to log all of the info\n",
    "\n",
    "    logInfo():void{\n",
    "        console.log(\n",
    "            `Car #${this.id} is a`, \n",
    "            this.year, \n",
    "            this.make, \n",
    "            this.model, \n",
    "            this.nickname ? `that is called ${this.nickname}` : 'that has no cool nickname'\n",
    "        )\n",
    "    }\n",
    "}"
   ]
  },
  {
   "cell_type": "code",
   "execution_count": 23,
   "id": "d923ce04",
   "metadata": {},
   "outputs": [
    {
     "name": "stderr",
     "output_type": "stream",
     "text": [
      "3:5 - Property 'id' is private and only accessible within class 'Car'.\n"
     ]
    }
   ],
   "source": [
    "let car =new Car(\"make\", \"model\", 2011, \"java\")\n",
    "console.log(car)\n",
    "car.id"
   ]
  },
  {
   "cell_type": "code",
   "execution_count": null,
   "id": "493c93ee",
   "metadata": {},
   "outputs": [],
   "source": [
    "\n",
    "// Private variable `id` is able to be accessed here because it was accessed in the class itself"
   ]
  },
  {
   "cell_type": "markdown",
   "id": "2af88485",
   "metadata": {},
   "source": [
    "Private variables cannot be access outside of the class"
   ]
  },
  {
   "cell_type": "code",
   "execution_count": 25,
   "id": "e35ddf06",
   "metadata": {
    "scrolled": true
   },
   "outputs": [
    {
     "name": "stdout",
     "output_type": "stream",
     "text": [
      "Car #47 is a \u001b[33m2011\u001b[39m make model that is called java\n"
     ]
    }
   ],
   "source": [
    "car.logInfo()"
   ]
  },
  {
   "cell_type": "code",
   "execution_count": 24,
   "id": "8f40b395",
   "metadata": {},
   "outputs": [
    {
     "name": "stdout",
     "output_type": "stream",
     "text": [
      "model\n"
     ]
    }
   ],
   "source": [
    "// public properties can be accesses outside of the class\n",
    "car.model"
   ]
  },
  {
   "cell_type": "markdown",
   "id": "67b02032",
   "metadata": {},
   "source": [
    "<a id=\"conprop\"></a>\n",
    "\n",
    "### Declaring Properties in the Constructor"
   ]
  },
  {
   "cell_type": "markdown",
   "id": "4d8eb6d8",
   "metadata": {},
   "source": [
    "When passing values to our constructor we can give the parameters an access modifier and no longer declare them at the top of the document.  Optional properties will still need to be declared at the top.\n",
    "\n",
    "<b>Note: </b> Like in Python we will name our private properties with an underscore.  This is an older convention and many may argue it is not applicable anymore, often it's replaced with a `$` at the beginning of the variable name, or some custom convention.  Google and Apple style guide chastise the use of the `_` prefix, so in your applications do not use this `_` convention.  For this workbook to make things clear, we will use a prefix of `_` for private variables and a postfix of `$` for protected variables"
   ]
  },
  {
   "cell_type": "code",
   "execution_count": null,
   "id": "091b369c",
   "metadata": {},
   "outputs": [],
   "source": [
    "class Car {\n",
    "     id: number\n",
    "    public make: string\n",
    "    public model: string\n",
    "    public year: number\n",
    "    public nickname?: string\n",
    "        \n",
    "    constructor(private readonly _id: number,\n",
    "         public make: string,\n",
    "         public model: string,\n",
    "         public year: number) {\n",
    "        this.id = Math.floor(Math.random()*1000)\n",
    "        this.make = make\n",
    "        this.model = model\n",
    "        this.year = year\n",
    "        this.nickname = nickname\n",
    "    }\n",
    "    \n",
    "    drive(miles: number) {\n",
    "        console.log(`The ${this.year} ${this.make} ${this.model} drove for ${miles}`)\n",
    "    }\n",
    "    \n",
    "// Add another method to log all of the info\n",
    "\n",
    "    logInfo():void{\n",
    "        console.log(\n",
    "            `Car #${this.id} is a`, \n",
    "            this.year, \n",
    "            this.make, \n",
    "            this.model, \n",
    "            this.nickname ? `that is called ${this.nickname}` : 'that has no cool nickname'\n",
    "        )\n",
    "    }\n",
    "}"
   ]
  },
  {
   "cell_type": "code",
   "execution_count": null,
   "id": "3623a26b",
   "metadata": {},
   "outputs": [],
   "source": []
  },
  {
   "cell_type": "code",
   "execution_count": null,
   "id": "531464f4",
   "metadata": {},
   "outputs": [],
   "source": []
  },
  {
   "cell_type": "code",
   "execution_count": null,
   "id": "b4c77148",
   "metadata": {},
   "outputs": [],
   "source": []
  },
  {
   "cell_type": "code",
   "execution_count": null,
   "id": "b41d9545",
   "metadata": {},
   "outputs": [],
   "source": []
  },
  {
   "cell_type": "markdown",
   "id": "d0037ac7",
   "metadata": {},
   "source": [
    "<a id=\"getter\"></a>\n",
    "\n",
    "### Getters"
   ]
  },
  {
   "cell_type": "markdown",
   "id": "47f20072",
   "metadata": {},
   "source": [
    "We can access varaibles with a getter.  This helps us encapsulate the property while still allowing view access.  Using getters and setters in your classes is good practice and should always be employed in your classes."
   ]
  },
  {
   "cell_type": "markdown",
   "id": "2a5bc985",
   "metadata": {},
   "source": [
    "In the following example we decided since a car's make and model can not be changed once it is made we will make those properties private, but the nickname of a car can be changed by anyone at anytime so we will make that public."
   ]
  },
  {
   "cell_type": "code",
   "execution_count": null,
   "id": "10c24e3b",
   "metadata": {},
   "outputs": [],
   "source": []
  },
  {
   "cell_type": "code",
   "execution_count": null,
   "id": "16c7c940",
   "metadata": {
    "scrolled": true
   },
   "outputs": [],
   "source": []
  },
  {
   "cell_type": "markdown",
   "id": "8873979c",
   "metadata": {},
   "source": [
    "Public properties can be changed from outside the class"
   ]
  },
  {
   "cell_type": "code",
   "execution_count": null,
   "id": "5e9636f1",
   "metadata": {},
   "outputs": [],
   "source": []
  },
  {
   "cell_type": "code",
   "execution_count": null,
   "id": "048cfe5f",
   "metadata": {},
   "outputs": [],
   "source": []
  },
  {
   "cell_type": "markdown",
   "id": "9a4c43ba",
   "metadata": {},
   "source": [
    "Private Properties can not be accessed outside the class"
   ]
  },
  {
   "cell_type": "code",
   "execution_count": null,
   "id": "769e18e3",
   "metadata": {
    "scrolled": true
   },
   "outputs": [],
   "source": []
  },
  {
   "cell_type": "markdown",
   "id": "e4123377",
   "metadata": {},
   "source": [
    "Public getters can make private variables viewable outside the class"
   ]
  },
  {
   "cell_type": "code",
   "execution_count": null,
   "id": "0ce0b402",
   "metadata": {},
   "outputs": [],
   "source": []
  },
  {
   "cell_type": "code",
   "execution_count": null,
   "id": "f8f0b392",
   "metadata": {},
   "outputs": [],
   "source": []
  },
  {
   "cell_type": "code",
   "execution_count": null,
   "id": "ebc36a39",
   "metadata": {
    "scrolled": true
   },
   "outputs": [],
   "source": []
  },
  {
   "cell_type": "code",
   "execution_count": null,
   "id": "5160890f",
   "metadata": {},
   "outputs": [],
   "source": []
  },
  {
   "cell_type": "markdown",
   "id": "75bc6bd7",
   "metadata": {},
   "source": [
    "<a id=\"setter\"></a>\n",
    "\n",
    "### Setters"
   ]
  },
  {
   "cell_type": "markdown",
   "id": "393c15cf",
   "metadata": {},
   "source": [
    "If a property is changed we often want to check or process the data that the property is getting changed to.  This makes setters very important.  They will allow us to define what happens when we change our variable.\n",
    "\n",
    "We can even create getters for things that are not properties.\n",
    "\n",
    "<strong>Note: </strong> Do not try and set a return type on a setter"
   ]
  },
  {
   "cell_type": "code",
   "execution_count": null,
   "id": "60caa0fe",
   "metadata": {},
   "outputs": [],
   "source": []
  },
  {
   "cell_type": "markdown",
   "id": "d02db854",
   "metadata": {},
   "source": [
    "Setters can allow us to change a private variable, while still letting the class decide how to properly enact the change."
   ]
  },
  {
   "cell_type": "code",
   "execution_count": null,
   "id": "39f66dc5",
   "metadata": {},
   "outputs": [],
   "source": []
  },
  {
   "cell_type": "code",
   "execution_count": null,
   "id": "24f55c25",
   "metadata": {},
   "outputs": [],
   "source": []
  },
  {
   "cell_type": "code",
   "execution_count": null,
   "id": "a5661108",
   "metadata": {},
   "outputs": [],
   "source": []
  },
  {
   "cell_type": "code",
   "execution_count": null,
   "id": "abda496e",
   "metadata": {},
   "outputs": [],
   "source": []
  },
  {
   "cell_type": "code",
   "execution_count": null,
   "id": "69a15686",
   "metadata": {},
   "outputs": [],
   "source": []
  },
  {
   "cell_type": "code",
   "execution_count": null,
   "id": "83fb399b",
   "metadata": {},
   "outputs": [],
   "source": []
  },
  {
   "cell_type": "markdown",
   "id": "380eb8d3",
   "metadata": {},
   "source": [
    "<a id=\"idxsign\"></a>\n",
    "\n",
    "### Index Signatures"
   ]
  },
  {
   "cell_type": "markdown",
   "id": "a6a97c72",
   "metadata": {},
   "source": [
    "Index Signatures allow us to dynamically (after creation) change the properties of our class.  This can be done in JS but in TS you get an error\n",
    "\n",
    "syntax:\n",
    "```\n",
    "[placeHolder:DatatypeOfProperty]:DataTypeContainedInProperty\n",
    "```"
   ]
  },
  {
   "cell_type": "code",
   "execution_count": null,
   "id": "02387f63",
   "metadata": {},
   "outputs": [],
   "source": [
    "//How we do this in JS\n"
   ]
  },
  {
   "cell_type": "code",
   "execution_count": null,
   "id": "c906038f",
   "metadata": {},
   "outputs": [],
   "source": []
  },
  {
   "cell_type": "code",
   "execution_count": null,
   "id": "0c4b57ce",
   "metadata": {},
   "outputs": [],
   "source": []
  },
  {
   "cell_type": "code",
   "execution_count": null,
   "id": "cc2379bb",
   "metadata": {},
   "outputs": [],
   "source": []
  },
  {
   "cell_type": "code",
   "execution_count": null,
   "id": "409f4a50",
   "metadata": {
    "scrolled": true
   },
   "outputs": [],
   "source": [
    "// To set properties that are Index Signatures, use bracket notation\n"
   ]
  },
  {
   "cell_type": "code",
   "execution_count": null,
   "id": "c8239c24",
   "metadata": {},
   "outputs": [],
   "source": []
  },
  {
   "cell_type": "code",
   "execution_count": null,
   "id": "48242edf",
   "metadata": {},
   "outputs": [],
   "source": []
  },
  {
   "cell_type": "code",
   "execution_count": null,
   "id": "24b6399a",
   "metadata": {},
   "outputs": [],
   "source": []
  },
  {
   "cell_type": "code",
   "execution_count": null,
   "id": "cea8f26b",
   "metadata": {},
   "outputs": [],
   "source": []
  },
  {
   "cell_type": "code",
   "execution_count": null,
   "id": "1c279261",
   "metadata": {},
   "outputs": [],
   "source": []
  },
  {
   "cell_type": "markdown",
   "id": "a7b91fa6",
   "metadata": {},
   "source": [
    "<a id=\"static\"></a>\n",
    "\n",
    "### Static"
   ]
  },
  {
   "cell_type": "markdown",
   "id": "cdd0515f",
   "metadata": {},
   "source": [
    "The `static` keyword denotes that the property maintains its value across all instances, and also must be used without an instance.\n",
    "\n",
    "To access a Static Property we call its by class name. `ClassName.staticProperty`"
   ]
  },
  {
   "cell_type": "code",
   "execution_count": 26,
   "id": "90933070",
   "metadata": {},
   "outputs": [],
   "source": [
    "// static kinda means that you cant access them by instances only by classname\n",
    "\n",
    "class Counter {\n",
    "    public static count:number = 0\n",
    "    \n",
    "    increaseCount():void {\n",
    "        Counter.count ++\n",
    "    }\n",
    "    \n",
    "    static showCount():void {\n",
    "        console.log(\"The count is\", Counter.count)\n",
    "    }\n",
    "}\n"
   ]
  },
  {
   "cell_type": "markdown",
   "id": "25e6168b",
   "metadata": {},
   "source": [
    "#### Accessing"
   ]
  },
  {
   "cell_type": "code",
   "execution_count": 29,
   "id": "4c52eb6b",
   "metadata": {},
   "outputs": [
    {
     "name": "stderr",
     "output_type": "stream",
     "text": [
      "3:9 - Property 'count' does not exist on type 'Counter'. Did you mean to access the static member 'Counter.count' instead?\n"
     ]
    }
   ],
   "source": [
    "console.log(Counter.count)\n",
    "let counter = new Counter()\n",
    "counter.count"
   ]
  },
  {
   "cell_type": "code",
   "execution_count": 33,
   "id": "0d9c9cd4",
   "metadata": {},
   "outputs": [
    {
     "name": "stderr",
     "output_type": "stream",
     "text": [
      "2:9 - Property 'increaseCount' does not exist on type 'typeof Counter'.\n"
     ]
    }
   ],
   "source": [
    "let counter2 = new Counter()\n",
    "Counter.increaseCount()\n",
    "console.log(Counter)"
   ]
  },
  {
   "cell_type": "code",
   "execution_count": null,
   "id": "9b51dacc",
   "metadata": {},
   "outputs": [],
   "source": [
    "// Can not Access"
   ]
  },
  {
   "cell_type": "markdown",
   "id": "a6236370",
   "metadata": {},
   "source": [
    "All Members of the Counter class share the same count property!"
   ]
  },
  {
   "cell_type": "code",
   "execution_count": null,
   "id": "1531cec3",
   "metadata": {},
   "outputs": [],
   "source": []
  },
  {
   "cell_type": "code",
   "execution_count": null,
   "id": "aa096db0",
   "metadata": {},
   "outputs": [],
   "source": []
  },
  {
   "cell_type": "code",
   "execution_count": null,
   "id": "2471544f",
   "metadata": {},
   "outputs": [],
   "source": [
    "//Nope\n"
   ]
  },
  {
   "cell_type": "code",
   "execution_count": null,
   "id": "657ad5f2",
   "metadata": {},
   "outputs": [],
   "source": []
  },
  {
   "cell_type": "code",
   "execution_count": null,
   "id": "da45fa4c",
   "metadata": {},
   "outputs": [],
   "source": []
  },
  {
   "cell_type": "markdown",
   "id": "a0a65a71",
   "metadata": {},
   "source": [
    "<a id=\"inherit\"></a>\n",
    "\n",
    "## Inheritance"
   ]
  },
  {
   "cell_type": "markdown",
   "id": "f9bafbb5",
   "metadata": {},
   "source": [
    "We are going to make a Duck class then define children classes to represent different kinds of ducks.  \n",
    "\n",
    "Here we will use the `protected` access modifier for the first time.  Remember protected means that the child class can access the property, while if it was made private it would not be able to be accessed in the child class\n",
    "\n",
    "<b>Note: </b>In python a class can inherit from multiple classes.  This is not possible in JavaScript/TypeScript.  You can only extend one class in JS/TS this is to prevent the so-called diamond problem (when two extended classes have the same base class).  This is fine and normal in most languages because JS also provides Interfaces and a class can implement many Interfaces (more on interfaces later)"
   ]
  },
  {
   "cell_type": "code",
   "execution_count": 35,
   "id": "37fc921f",
   "metadata": {},
   "outputs": [],
   "source": [
    "class Duck {\n",
    "    public static className:string = \"Duck\"\n",
    "    \n",
    "    constructor(protected age$: number){}\n",
    "    \n",
    "    get age():number {\n",
    "        return this.age$\n",
    "    }\n",
    "    \n",
    "    public quack():void {\n",
    "        console.log(\"Generic Quack Sound\")\n",
    "    }\n",
    "    \n",
    "    public swim():void {\n",
    "        console.log('Paddles with two feet')\n",
    "    }\n",
    "}\n",
    "\n"
   ]
  },
  {
   "cell_type": "code",
   "execution_count": 36,
   "id": "92d1525b",
   "metadata": {},
   "outputs": [
    {
     "name": "stdout",
     "output_type": "stream",
     "text": [
      "Duck\n",
      "Generic Quack Sound\n",
      "Paddles with two feet\n"
     ]
    }
   ],
   "source": [
    "console.log(Duck.className)\n",
    "let daffy = new Duck(25)\n",
    "daffy.quack()\n",
    "daffy.swim()\n",
    "// console.log"
   ]
  },
  {
   "cell_type": "markdown",
   "id": "4fc302a5",
   "metadata": {},
   "source": [
    "#### In the Child Class"
   ]
  },
  {
   "cell_type": "markdown",
   "id": "f8d79a9b",
   "metadata": {},
   "source": [
    "To inherit from a class in JS/TS we use the extends keyword\n",
    "\n",
    "<b>Note </b> When adding parameters that are part of the parent class we do not add access modifiers"
   ]
  },
  {
   "cell_type": "code",
   "execution_count": 39,
   "id": "b52cd841",
   "metadata": {},
   "outputs": [],
   "source": [
    "class MallarDuck extends Duck {\n",
    "    public static className:string = \"Duck\"\n",
    "    \n",
    "    constructor(public color: string, age: number) {\n",
    "        super(age)\n",
    "    }\n",
    "}"
   ]
  },
  {
   "cell_type": "code",
   "execution_count": 43,
   "id": "25cb7ead",
   "metadata": {},
   "outputs": [
    {
     "name": "stdout",
     "output_type": "stream",
     "text": [
      "MallarDuck { \u001b[32m'age$'\u001b[39m: \u001b[33m20\u001b[39m, color: \u001b[32m'red'\u001b[39m }\n",
      "Generic Quack Sound\n",
      "Paddles with two feet\n"
     ]
    }
   ],
   "source": [
    "let mallar = new MallarDuck(\"red\", 20)\n",
    "console.log(mallar)\n",
    "mallar.age\n",
    "mallar.quack()\n",
    "mallar.swim()\n"
   ]
  },
  {
   "cell_type": "code",
   "execution_count": null,
   "id": "01b48029",
   "metadata": {
    "scrolled": true
   },
   "outputs": [],
   "source": [
    " // Duck's don't have a color"
   ]
  },
  {
   "cell_type": "markdown",
   "id": "acc9211f",
   "metadata": {},
   "source": [
    "### Protected Variables are Accessible in the Child Class"
   ]
  },
  {
   "cell_type": "markdown",
   "id": "da6877ec",
   "metadata": {},
   "source": [
    "Try switching the access modifier on serialNo to `private` and you will see you cannot access it in the Roku class."
   ]
  },
  {
   "cell_type": "code",
   "execution_count": 45,
   "id": "bb0a7c41",
   "metadata": {},
   "outputs": [
    {
     "name": "stdout",
     "output_type": "stream",
     "text": [
      "9q8y789h3ujh7ua\n"
     ]
    }
   ],
   "source": [
    "// private is for the same class\n",
    "// protected is for the same derived class\n",
    "\n",
    "class TV {\n",
    "    constructor(protected serialNo: string){}\n",
    "}\n",
    "\n",
    "class Roku extends TV {\n",
    "    showSerial():void {\n",
    "        console.log(this.serialNo)\n",
    "    }\n",
    "}\n",
    "\n",
    "let myTv = new Roku('9q8y789h3ujh7ua')\n",
    "myTv.showSerial()"
   ]
  },
  {
   "cell_type": "code",
   "execution_count": 47,
   "id": "b19bb642",
   "metadata": {
    "scrolled": true
   },
   "outputs": [
    {
     "name": "stderr",
     "output_type": "stream",
     "text": [
      "10:26 - Property 'serialNo' is private and only accessible within class 'TV'.\n"
     ]
    }
   ],
   "source": [
    "// If we change the serialNo to a private property instead of protected,\n",
    "// the child class (Roku) is not able to access serialNo.\n",
    "\n",
    "class TV {\n",
    "    constructor(private serialNo: string){}\n",
    "}\n",
    "\n",
    "class Roku extends TV {\n",
    "    showSerial():void {\n",
    "        console.log(this.serialNo)\n",
    "    }\n",
    "}\n",
    "\n",
    "let myTv = new Roku('9q8y789h3ujh7ua')\n",
    "myTv.showSerial()"
   ]
  },
  {
   "cell_type": "markdown",
   "id": "8a84af9b",
   "metadata": {},
   "source": [
    "<a id=\"methover\"></a>\n",
    "\n",
    "### Method Overrides"
   ]
  },
  {
   "cell_type": "markdown",
   "id": "c10d5cbe",
   "metadata": {},
   "source": [
    "Now we notice that our mallard makes a generic animal sounds instead of the mallard's quack sound, so we should implement a different way to quack that is specific to mallards, we can do this by overriding the parent class method"
   ]
  },
  {
   "cell_type": "markdown",
   "id": "83b7556a",
   "metadata": {},
   "source": [
    "##### Implicit Overrides"
   ]
  },
  {
   "cell_type": "markdown",
   "id": "6ab1bbb6",
   "metadata": {},
   "source": [
    "If you create a method in a child class with the same name as a method in the parent class, the child class will use the method definition from the child class, this is called a <b>method override</b>  This is done implicitly by the computer.  This is now considered bad practice and it is recommended to always use the `override` keyword (more on that next)"
   ]
  },
  {
   "cell_type": "code",
   "execution_count": 56,
   "id": "767a531f",
   "metadata": {},
   "outputs": [],
   "source": [
    "class Duck{\n",
    "\n",
    "    public static className:string = 'Duck'\n",
    "    constructor(protected age$:number){}\n",
    "    \n",
    "    get age():number {\n",
    "\n",
    "        return this.age$\n",
    "    }\n",
    "\n",
    "    public quack():void{\n",
    "\n",
    "        console.log('Generic Quack Sound')\n",
    "\n",
    "    }\n",
    "    public swim():void{\n",
    "\n",
    "        console.log('Paddles with two feet')\n",
    "\n",
    "    }\n",
    "\n",
    "}\n",
    "\n",
    "\n",
    "class MallardDuck extends Duck {\n",
    "    public static className:string = \"MallerDuck\"\n",
    "    \n",
    "    constructor(public color: string, age: number) {\n",
    "        super(age)\n",
    "    }\n",
    "    \n",
    "    public get age(): number {\n",
    "        return this.age$ + 5\n",
    "    }\n",
    "    \n",
    "    public quack():void {\n",
    "        console.log(\"Mallard Quacking\")\n",
    "    }\n",
    "}"
   ]
  },
  {
   "cell_type": "code",
   "execution_count": 57,
   "id": "ca971d0d",
   "metadata": {},
   "outputs": [
    {
     "name": "stdout",
     "output_type": "stream",
     "text": [
      "Generic Quack Sound\n",
      "Paddles with two feet\n"
     ]
    }
   ],
   "source": [
    "let donald = new Duck(20)\n",
    "donald.age\n",
    "donald.quack()\n",
    "donald.swim()\n",
    "// md"
   ]
  },
  {
   "cell_type": "code",
   "execution_count": 60,
   "id": "42224b29",
   "metadata": {},
   "outputs": [
    {
     "name": "stdout",
     "output_type": "stream",
     "text": [
      "Paddles with two feet\n",
      "Mallard Quacking\n",
      "\u001b[33m25\u001b[39m\n"
     ]
    }
   ],
   "source": [
    "let greenDuck = new MallardDuck(\"green\", 20)\n",
    "greenDuck.swim()\n",
    "greenDuck.quack()\n",
    "greenDuck.age"
   ]
  },
  {
   "cell_type": "markdown",
   "id": "68834511",
   "metadata": {},
   "source": [
    "<a id=\"override\"></a>\n",
    "##### Explicit Overrides"
   ]
  },
  {
   "cell_type": "markdown",
   "id": "5a7abe90",
   "metadata": {},
   "source": [
    "TS 4.3 they added support for the `override` keyword.  This notebook runs 4.1, so the override keyword will not work.  Without it you get an implicit override, where TS infers you are overriding when you use the same name.\n",
    "\n",
    "The `override` keyword is really useful for when you change your base class and maybe remove a method.  The Child classes with now get an error saying there is no method to override. "
   ]
  },
  {
   "cell_type": "markdown",
   "id": "d1d2df06",
   "metadata": {},
   "source": [
    "Since this notebook does not support the `override` keyword, we will have you checkout this file using StackBlitz\n",
    "\n",
    "[https://stackblitz.com/edit/w9pgd4?file=index.ts](https://stackblitz.com/edit/w9pgd4?file=index.ts)\n",
    "\n",
    "when using this code be sure to open the console (on the bottom right below the browser output)"
   ]
  },
  {
   "cell_type": "markdown",
   "id": "55afc76b",
   "metadata": {},
   "source": [
    "<a id=\"polym\"></a>\n",
    "\n",
    "### Polymorphism"
   ]
  },
  {
   "cell_type": "markdown",
   "id": "c2880118",
   "metadata": {},
   "source": [
    "Polymorphism means having many forms.  What we have learned in TS so far is that you always need to know the datatype of your variables.  And if you say make an array you have to define what is in that array.  \n",
    "\n",
    "What polymorphism says is if one class (say MallardDuck) inherits from a class (say Duck) then every MallardDuck is a Duck. Also, all other Children of the Duck Class (say RedHeadedDuck) are also Ducks; and not to forget that Ducks are also Ducks.  This means we can build an Array&lt;Ducks&gt; and include Ducks, RedHeadedDucks, and Mallard Ducks.\n",
    "    \n",
    "In OOP we often talk about the <b>Open-Closed Principal</b> The open–closed principle states \"software entities (classes, modules, functions, etc.) should be open for extension, but closed for modification\";\n",
    "    \n",
    "Polymorphism is a key way we can help achieve this goal"
   ]
  },
  {
   "cell_type": "markdown",
   "id": "df113605",
   "metadata": {},
   "source": [
    "<b>Lets </b> make another Type of Duck the ReadHeadedDuck"
   ]
  },
  {
   "cell_type": "code",
   "execution_count": null,
   "id": "eaf6cee9",
   "metadata": {},
   "outputs": [],
   "source": []
  },
  {
   "cell_type": "markdown",
   "id": "72aaa5c0",
   "metadata": {},
   "source": [
    "Let’s make an array of Ducks.  Since all Duck Types inherit from Duck we can declare the array and array of Ducks."
   ]
  },
  {
   "cell_type": "code",
   "execution_count": null,
   "id": "e6c036a2",
   "metadata": {},
   "outputs": [],
   "source": []
  },
  {
   "cell_type": "code",
   "execution_count": null,
   "id": "cd81887c",
   "metadata": {},
   "outputs": [],
   "source": []
  },
  {
   "cell_type": "markdown",
   "id": "c0ee1f5b",
   "metadata": {},
   "source": [
    "Now Lets watch Polymorphism in action\n",
    "\n",
    "This is really cool, because all Ducks are implementing the same behaviors (methods) we can invoke them and get the results from each individual class."
   ]
  },
  {
   "cell_type": "code",
   "execution_count": null,
   "id": "1062c0a7",
   "metadata": {
    "scrolled": true
   },
   "outputs": [],
   "source": []
  },
  {
   "cell_type": "markdown",
   "id": "1af58e19",
   "metadata": {},
   "source": [
    "<a id=\"dp\"></a>\n",
    "\n",
    "## OOP Design Patterns"
   ]
  },
  {
   "cell_type": "markdown",
   "id": "3be2806a",
   "metadata": {},
   "source": [
    "There are alot of ways to design systems with classes and Abstract classes and interfaces (more of these last two things coming up)\n",
    "\n",
    "The way you connect your Classes/Interface/Abstract Class make up your Design Pattern.  We are going to walk you through a good OOP design pattern in the next few sections"
   ]
  },
  {
   "cell_type": "markdown",
   "id": "d539b702",
   "metadata": {},
   "source": [
    "<a id=\"abs\"></a>\n",
    "\n",
    "## Abstract Classes"
   ]
  },
  {
   "cell_type": "markdown",
   "id": "8599a057",
   "metadata": {},
   "source": [
    "Our `Duck` Class now has a problem.  We shouldn't be able to create a plain duck.  All Ducks in the world are some variation on the Duck class, but a plain generic Duck should never exist.  This means we shouldn't be able to make a new duck\n",
    "\n",
    "`let duck = Duck(23)` Should not be allowed because this doesn't make logical sense.\n",
    "\n",
    "Don't fear because we have a solution for this.  We will use an `Abstract Class`  An Abstract Class is a class typically without method implementations, or implementations that function the same for all children classes.  In an Abstract class we merely define that a method should exist and that the children classes should define their own implantation..\n",
    "\n",
    "We use the keyword `abstract` to define a method that is abstract (or will not have an implementation) We also don't give that function a body.  If we don't define the method as abstract then it will need a method body"
   ]
  },
  {
   "cell_type": "code",
   "execution_count": 72,
   "id": "9c8f03f6",
   "metadata": {},
   "outputs": [],
   "source": [
    "abstract class Duck {\n",
    "//     public color: string\n",
    "    \n",
    "    constructor(protected age$: number){}\n",
    "    \n",
    "    get age(): number {\n",
    "        return this.age$\n",
    "    }\n",
    "    \n",
    "    abstract quack():void\n",
    "    abstract swim():void\n",
    "}"
   ]
  },
  {
   "cell_type": "code",
   "execution_count": 73,
   "id": "4340cc8d",
   "metadata": {},
   "outputs": [
    {
     "name": "stderr",
     "output_type": "stream",
     "text": [
      "2:12 - Cannot create an instance of an abstract class.\n"
     ]
    }
   ],
   "source": [
    "//Error\n",
    "let duck = new Duck(12)"
   ]
  },
  {
   "cell_type": "code",
   "execution_count": 74,
   "id": "2f1520ca",
   "metadata": {},
   "outputs": [
    {
     "name": "stderr",
     "output_type": "stream",
     "text": [
      "1:7 - Non-abstract class 'MallardDuck' does not implement inherited abstract member 'quack' from class 'Duck'.\n",
      "1:7 - Non-abstract class 'MallardDuck' does not implement inherited abstract member 'swim' from class 'Duck'.\n"
     ]
    }
   ],
   "source": [
    "class MallardDuck extends Duck {\n",
    "    constructor(public color:string, age: number){\n",
    "        super(age)\n",
    "    }\n",
    "    \n",
    "    \n",
    "}"
   ]
  },
  {
   "cell_type": "code",
   "execution_count": 75,
   "id": "e955b967",
   "metadata": {},
   "outputs": [],
   "source": [
    "// when inheriting from an abstract class\n",
    "// you must provide implementations of the abstract body/methid\n",
    "\n",
    "class MallardDuck extends Duck {\n",
    "    constructor(public color:string, age: number){\n",
    "        super(age)\n",
    "    }\n",
    "    \n",
    "    quack(): void {\n",
    "        console.log(\"Mallard quacking\")\n",
    "    }\n",
    "    \n",
    "    swim(): void {\n",
    "        console.log(\"swimming like a Mallard\")\n",
    "    }\n",
    "    \n",
    "}"
   ]
  },
  {
   "cell_type": "code",
   "execution_count": 76,
   "id": "54a76f9d",
   "metadata": {},
   "outputs": [],
   "source": [
    "class RedHeadedDuck extends Duck {\n",
    "    constructor(public color:string, age: number){\n",
    "        super(age)\n",
    "    }\n",
    "    \n",
    "    quack(): void {\n",
    "        console.log(\"Red Headed quacking\")\n",
    "    }\n",
    "    \n",
    "    swim(): void {\n",
    "        console.log(\"swimming like a Red Headed Duck\")\n",
    "    }\n",
    "    \n",
    "}"
   ]
  },
  {
   "cell_type": "code",
   "execution_count": 77,
   "id": "3557d25f",
   "metadata": {},
   "outputs": [
    {
     "name": "stderr",
     "output_type": "stream",
     "text": [
      "6:22 - Property 'color' does not exist on type 'Duck'.\n"
     ]
    }
   ],
   "source": [
    "let aMallard = new MallardDuck('yellow', 20)\n",
    "let aRedHeaded = new RedHeadedDuck('red', 23)\n",
    "\n",
    "const duckyArr: Duck[] = [aMallard, aRedHeaded]\n",
    "for(let duck of duckyArr) {\n",
    "    console.log(duck.color)\n",
    "}"
   ]
  },
  {
   "cell_type": "code",
   "execution_count": null,
   "id": "b4580412",
   "metadata": {},
   "outputs": [],
   "source": []
  },
  {
   "cell_type": "markdown",
   "id": "1e0f4f29",
   "metadata": {},
   "source": [
    "<b>What happened with Color?</b>"
   ]
  },
  {
   "cell_type": "markdown",
   "id": "ccf084bf",
   "metadata": {},
   "source": [
    "Lets Try and get the ducks color the same way.\n",
    "\n",
    "when we run the code below we get \n",
    "\n",
    "```Property 'color' does not exist on type 'Duck'.```\n",
    "We know MallardDuck and RedheadedDuck have the property color, but since we are accessing the RedHeaded and Mallard Ducks as a Duck Type (since they are in a array of Ducks not as RedheadedDuck|MallardDuck) we can not use the color property unless it is defined in the parent Abstract class.\n",
    "\n",
    "To fix this we can go back to our base class of `Duck` and add the property `color:string` at the top of our `Duck` class.  Then rerun the cells defining `MallardDuck` and `RedheadedDuck` (to get the new copy of the Duck class) and then rerun the cell below and we should see out expected results"
   ]
  },
  {
   "cell_type": "code",
   "execution_count": null,
   "id": "3e60585d",
   "metadata": {},
   "outputs": [],
   "source": []
  },
  {
   "cell_type": "markdown",
   "id": "3f0f47f7",
   "metadata": {},
   "source": [
    "<a id=\"fly\"></a>\n",
    "\n",
    "#### Flying Ducks"
   ]
  },
  {
   "cell_type": "markdown",
   "id": "25746db9",
   "metadata": {},
   "source": [
    "Let's imagine now we are tasked with adding the ability to fly to our ducks.  This will be simple to add a new method to our Abstract base class `Duck` then implement its specific functionality in the children classes `MallardDuck` and `RedHeaded Duck`.  And for simplicity lets remove the color property"
   ]
  },
  {
   "cell_type": "code",
   "execution_count": null,
   "id": "5d2dce16",
   "metadata": {},
   "outputs": [],
   "source": [
    "abstract class Duck{  \n",
    "    constructor(protected age$:number){}\n",
    "    get age():number{\n",
    "\n",
    "        return this.age$\n",
    "\n",
    "    }\n",
    "\n",
    "    abstract quack():void;\n",
    "    abstract swim():void;\n",
    "    abstract fly():void;\n",
    "}\n",
    "\n",
    "class MallardDuck extends Duck{\n",
    "    quack():void{\n",
    "        console.log('Mallard quacking')\n",
    "    }\n",
    "    swim():void{\n",
    "\n",
    "        console.log('Swimming like a Mallard')\n",
    "\n",
    "    }\n",
    "    fly():void{\n",
    "        console.log(\"Mallard is flying high in the sky\")\n",
    "    }\n",
    "}\n",
    "\n",
    "class RedHeadedDuck extends Duck{   \n",
    "    quack():void{\n",
    "        console.log(\"Red Headed Quack!\")\n",
    "    }\n",
    "\n",
    "    swim():void{\n",
    "        console.log('Swimming like a Red Headed Duck')\n",
    "    }\n",
    "\n",
    "    fly():void{\n",
    "        console.log(\"Flying around the Red Headed Duck way!\")\n",
    "    }\n",
    "\n",
    "}"
   ]
  },
  {
   "cell_type": "code",
   "execution_count": null,
   "id": "ca1d9fc0",
   "metadata": {},
   "outputs": [],
   "source": []
  },
  {
   "cell_type": "markdown",
   "id": "ec2dc503",
   "metadata": {},
   "source": [
    "<a id=\"decoy\"></a>\n",
    "\n",
    "#### Decoy Ducks "
   ]
  },
  {
   "cell_type": "markdown",
   "id": "465f7f65",
   "metadata": {},
   "source": [
    "Okay that was easy enough, but now we are required to make another type of duck, a duck decoy.  Lets Build our `DecoyDuck` class"
   ]
  },
  {
   "cell_type": "code",
   "execution_count": null,
   "id": "5922d89d",
   "metadata": {},
   "outputs": [],
   "source": []
  },
  {
   "cell_type": "markdown",
   "id": "b6eed0cc",
   "metadata": {},
   "source": [
    "We Have now come across a problem with using the abstract class to derive all our Duck Types.  A Decoy Duck has no implementation of fly, and thus we should not be implementing a fly method on a decoy duck.\n",
    "\n",
    "Never Fear! Interfaces are here!  An Interface lets you define methods that a class needs to implement.  It can also be used as a type."
   ]
  },
  {
   "cell_type": "markdown",
   "id": "35e8bef6",
   "metadata": {},
   "source": [
    "<a id=\"ice1\"></a>\n",
    "\n",
    "## In Class Exercise #1"
   ]
  },
  {
   "cell_type": "markdown",
   "id": "197a19cc",
   "metadata": {},
   "source": [
    "Create a class `Car` and then create 2 car subclasses `SmartCar`, `Truck`.\n",
    "All Cars should be able to `brake` `drive` and `honk`\n",
    "\n",
    "- When a SmartCar drives it makes `hummmm` sound and when it honks it makes a `MMmeep` sound\n",
    "- When a Truck drives it makes a `vrooom` sound and when it honks it makes `BWaaaaaahp`\n",
    "- When a Truck or a SmartCar brakes it makes `squeeel` sound"
   ]
  },
  {
   "cell_type": "code",
   "execution_count": 79,
   "id": "3c84f533",
   "metadata": {},
   "outputs": [],
   "source": [
    "//Solution\n",
    "\n",
    "abstract class Car{\n",
    "    abstract drives():void;\n",
    "    abstract honk():void;\n",
    "    brake(){\n",
    "        console.log('squeeel')\n",
    "    }\n",
    "}\n",
    "\n",
    "\n",
    "class SmartCar extends Car{\n",
    "    drives():void{\n",
    "        console.log('hummmmm')\n",
    "    }\n",
    "\n",
    "    honk():void{\n",
    "        console.log('MMmeep')\n",
    "    }\n",
    "}\n",
    "\n",
    "class Truck extends Car{\n",
    "    drives():void{\n",
    "        console.log('vroooom')\n",
    "    }\n",
    "\n",
    "    honk():void{\n",
    "        console.log('BWaaaaahp')\n",
    "    \n",
    "}"
   ]
  },
  {
   "cell_type": "code",
   "execution_count": 80,
   "id": "848043be",
   "metadata": {},
   "outputs": [
    {
     "name": "stdout",
     "output_type": "stream",
     "text": [
      "hummmmm\n",
      "MMmeep\n",
      "squeeel\n",
      "vroooom\n",
      "BWaaaaahp\n",
      "squeeel\n"
     ]
    }
   ],
   "source": [
    "let car1 = new SmartCar();\n",
    "let car2 = new Truck();\n",
    "\n",
    "let cars: Car[] = [car1, car2];\n",
    "\n",
    "for (let c of cars){\n",
    "    c.drives();\n",
    "    c.honk();\n",
    "    c.brake();\n",
    "}"
   ]
  },
  {
   "cell_type": "code",
   "execution_count": null,
   "id": "dd342d59",
   "metadata": {},
   "outputs": [],
   "source": []
  },
  {
   "cell_type": "markdown",
   "id": "00e0b56e",
   "metadata": {},
   "source": [
    "<a id=\"interfaces\"></a>\n",
    "\n",
    "### Interfaces"
   ]
  },
  {
   "cell_type": "markdown",
   "id": "96edbaa2",
   "metadata": {},
   "source": [
    "Let's redefine our Ducks now using Interfaces. Interfaces are generally names with the suffix `able` because the Interface says anything that implements me is able to do these actions.\n",
    "\n",
    "Interfaces also work with Polymorphism. \n",
    "\n",
    "To say a class uses an interface we use the keyword `implements`\n",
    "\n",
    "A class can implement many interfaces, yet extend only one class.\n",
    "\n",
    "An Interface can enforce many different methods/properties, but in this example we will keep it to one method per interface.  The Age property should belong to all ducks still, so we will keep the Duck base class to hold the age, for these examples we will assume the ducks all age exactly the same, so there will be no need to override the getters for age.\n",
    "\n",
    "<i>Interface vs Type</i>\n",
    "\n",
    "Interfaces and Types are extremely similar in TypeScript and for the most part Interfaces and Types can be used interchangeably in TypeScript.\n",
    "\n",
    "for an in-depth discussion on the differences visit https://www.educba.com/typescript-type-vs-interface/\n",
    "\n",
    "Interfaces are created to say this class will work with anything that needs this interface.  You can think of a CD as an interface.  There are tons of different CDs with different information on them, but they can all be put into a CD player to play there contents.  The CD is an interface that works with a CD Player then different artists can use the CD interface to create there own CDs filled with their own music.\n",
    "\n",
    "\n",
    "<strong>Note </strong> Interfaces do not have method bodies (Abstract classes have method bodies)"
   ]
  },
  {
   "cell_type": "code",
   "execution_count": 84,
   "id": "28054abf",
   "metadata": {},
   "outputs": [],
   "source": [
    "abstract class Duck {\n",
    "    constructor(protected age$: number){}\n",
    "    \n",
    "    public get age(): number {\n",
    "        return this.age$\n",
    "    }\n",
    "}\n",
    "\n",
    "interface Quackable {\n",
    "    quack() : void\n",
    "}\n",
    "\n",
    "interface Swimmable {\n",
    "    swim(): void\n",
    "}\n",
    "\n",
    "\n",
    "interface Flyable {\n",
    "    fly(): void\n",
    "}\n",
    "\n",
    "class MallardDuck extends Duck implements Quackable, Swimmable, Flyable {\n",
    "    \n",
    "    quack() : void {\n",
    "        console.log(\"Mallard Duck is quacking\")\n",
    "    }\n",
    "    \n",
    "    swim() :void {\n",
    "        console.log(\"Swimming like a mallard Duck\")\n",
    "    }\n",
    "    \n",
    "    fly(): void{\n",
    "        console.log(\"Flying High like a mallard duck\")\n",
    "    }\n",
    "    \n",
    "    land(): void {\n",
    "        console.log(\"RedHeaded Duck is landing\")\n",
    "    }\n",
    "}\n",
    "\n",
    "\n",
    "class RedHeadedDuck extends Duck implements Quackable, Swimmable, Flyable {\n",
    "    \n",
    "    quack() : void {\n",
    "        console.log(\"RedHeaded Duck is quacking\")\n",
    "    }\n",
    "    \n",
    "    swim() :void {\n",
    "        console.log(\"Swimming like a RedHeaded Duck\")\n",
    "    }\n",
    "    \n",
    "    fly(): void{\n",
    "        console.log(\"Flying High like a RedHeaded duck\")\n",
    "    }\n",
    "    \n",
    "    land(): void {\n",
    "        console.log(\"RedHeaded Duck is landing\")\n",
    "    }\n",
    "}\n",
    "\n",
    "class DecoyDuck extends Duck implements Quackable, Swimmable {\n",
    "    quack():void {\n",
    "        console.log(\"I dont talk because I am a decoy\")\n",
    "    }\n",
    "    \n",
    "    swim(): void {\n",
    "        console.log(\"Just floating around because im a decoy\")\n",
    "    }\n",
    "}"
   ]
  },
  {
   "cell_type": "markdown",
   "id": "3e028f5b",
   "metadata": {},
   "source": [
    "We can use the Interface as a type to make an array of all the ducks that Quack"
   ]
  },
  {
   "cell_type": "code",
   "execution_count": 102,
   "id": "4fc873c2",
   "metadata": {},
   "outputs": [
    {
     "name": "stdout",
     "output_type": "stream",
     "text": [
      "RedHeaded Duck is quacking\n",
      "Mallard Duck is quacking\n",
      "I dont talk because I am a decoy\n"
     ]
    }
   ],
   "source": [
    "let quackingDucks: Quackable[] = [new RedHeadedDuck(5), new MallardDuck(3), new DecoyDuck(1)]\n",
    "\n",
    "for(let duck of quackingDucks) {\n",
    "    duck.quack()\n",
    "}"
   ]
  },
  {
   "cell_type": "code",
   "execution_count": 87,
   "id": "0482495d",
   "metadata": {},
   "outputs": [
    {
     "name": "stderr",
     "output_type": "stream",
     "text": [
      "1:73 - Property 'fly' is missing in type 'DecoyDuck' but required in type 'Flyable'.\n"
     ]
    }
   ],
   "source": [
    "let flyingDucks: Flyable[] = [new RedHeadedDuck(5), new MallardDuck(3), new DecoyDuck(1)]"
   ]
  },
  {
   "cell_type": "code",
   "execution_count": 88,
   "id": "f6794d21",
   "metadata": {},
   "outputs": [],
   "source": [
    "let flyingDucks: Flyable[] = [new RedHeadedDuck(5), new MallardDuck(3)]"
   ]
  },
  {
   "cell_type": "code",
   "execution_count": null,
   "id": "f34c79f2",
   "metadata": {},
   "outputs": [],
   "source": [
    "// Interfaces can be used on other classes as well\n"
   ]
  },
  {
   "cell_type": "code",
   "execution_count": null,
   "id": "6e8a6895",
   "metadata": {},
   "outputs": [],
   "source": []
  },
  {
   "cell_type": "markdown",
   "id": "4d34a346",
   "metadata": {},
   "source": [
    "<a id=\"ice2\"></a>\n",
    "## In Class Exercise #2"
   ]
  },
  {
   "cell_type": "markdown",
   "id": "17ac5b75",
   "metadata": {},
   "source": [
    "Create a Interface called `Playable` that states anything implementing it should be able to `play` and create Classes: CD, Tape, Record to implement your interface\n",
    "\n",
    "To implement play:\n",
    "\n",
    "- CDs will print \"Spins and read with Laser\"\n",
    "- Tapes will print \"Magnetic Tape is read\"\n",
    "- Records will print \"Needle reads grooves\""
   ]
  },
  {
   "cell_type": "code",
   "execution_count": 100,
   "id": "ddab1fa0",
   "metadata": {},
   "outputs": [],
   "source": [
    "//Solution\n",
    "interface Playable {\n",
    "    play(): void;\n",
    "};\n",
    "\n",
    "class CD implements Playable {\n",
    "    play():void {\n",
    "        console.log(\"Spins and read with Laser\")\n",
    "    }\n",
    "}\n",
    "\n",
    "class Tape implements Playable {\n",
    "    play():void {\n",
    "        console.log(\"Magnetic Tape is read\")\n",
    "    }\n",
    "}\n",
    "\n",
    "class Record implements Playable {\n",
    "    play():void {\n",
    "        console.log(\"Needle reads grooves\")\n",
    "    }\n",
    "}"
   ]
  },
  {
   "cell_type": "code",
   "execution_count": 101,
   "id": "2e1e36d7",
   "metadata": {},
   "outputs": [
    {
     "name": "stdout",
     "output_type": "stream",
     "text": [
      "Spins and read with Laser\n",
      "Magnetic Tape is read\n",
      "Needle reads grooves\n"
     ]
    }
   ],
   "source": [
    "let cd = new CD()\n",
    "let tape = new Tape()\n",
    "let record = new Record()\n",
    "\n",
    "const playArray: Playable[] = [cd, tape, record]\n",
    "for(let play of playArray) {\n",
    "    play.play()\n",
    "}"
   ]
  },
  {
   "cell_type": "code",
   "execution_count": null,
   "id": "a6e28e4a",
   "metadata": {},
   "outputs": [],
   "source": []
  },
  {
   "cell_type": "markdown",
   "id": "a4ec1618",
   "metadata": {},
   "source": [
    "<a id=\"rubber\"></a>\n",
    "\n",
    "#### Rubber Duck / Final Design"
   ]
  },
  {
   "cell_type": "markdown",
   "id": "fca66013",
   "metadata": {},
   "source": [
    "Lets take this a step futher, because we know we will be making a lot more types of ducks in the future.  Lets now assume a mallard and redheaded duck both quack and fly and swim the same and most ducks will have the same sort of flying and quacking and swimming mechanism.  Decoy ducks still fly, quack, and swim differently.  \n",
    "\n",
    "Now we are tasked with creating a Rubber Ducky.  A Rubber ducky will not be able to fly like our Decoy Duck, It will quack in its own squeaky way, and it will swim like the Decoy duck by floating.\n",
    "\n",
    "This is our final iteration of this Duck Design"
   ]
  },
  {
   "cell_type": "code",
   "execution_count": 104,
   "id": "55165d5f",
   "metadata": {},
   "outputs": [],
   "source": [
    "interface Quackable{\n",
    "    quack():void\n",
    "}\n",
    "\n",
    "// interface Swimmable{\n",
    "//     swim():void\n",
    "// }\n",
    "\n",
    "// interface Flyable{\n",
    "//     fly():void\n",
    "// }\n",
    "\n",
    "// Class for Ducks that will Quack (Mallard, Red)\n",
    "class Quacks implements Quackable{\n",
    "    quack():void{\n",
    "        console.log('Quack!')\n",
    "    }\n",
    "}\n",
    "\n",
    "// Class for Ducks that will Squeak (Rubber)\n",
    "class Squeaks implements Quackable{\n",
    "    quack():void{\n",
    "        console.log('Squeak')\n",
    "    }\n",
    "}\n",
    "\n",
    "// Class for Ducks that are silent (Decoy)\n",
    "class Muted implements Quackable{\n",
    "    quack():void{\n",
    "        console.log('...')\n",
    "    }\n",
    "}\n",
    "\n",
    "\n",
    "abstract class Duck implements Quackable{\n",
    "    protected quackAbility$: Quackable\n",
    "    \n",
    "    constructor(private _age:number){}\n",
    "    \n",
    "    get age():number{\n",
    "        return this._age\n",
    "    }\n",
    "    \n",
    "    set quackAbility(qa:Quackable){\n",
    "        this.quackAbility$ = qa\n",
    "    }\n",
    "    \n",
    "    quack():void{\n",
    "        this.quackAbility$.quack()\n",
    "    }\n",
    "}\n",
    "\n",
    "class MallardDuck extends Duck{\n",
    "    quackAbility$ = new Quacks()\n",
    "}\n",
    "\n",
    "class RedHeadedDuck extends Duck{\n",
    "    quackAbility$ = new Quacks()\n",
    "}\n",
    "\n",
    "class DecoyDuck extends Duck{\n",
    "    quackAbility$ = new Muted()\n",
    "}\n",
    "\n",
    "class RubberDuck extends Duck{\n",
    "    quackAbility$ = new Squeaks()\n",
    "}"
   ]
  },
  {
   "cell_type": "code",
   "execution_count": 105,
   "id": "e4dd347e",
   "metadata": {},
   "outputs": [],
   "source": [
    "let allDucks: Duck[] = [\n",
    "    new MallardDuck(11),\n",
    "    new RedHeadedDuck(8),\n",
    "    new DecoyDuck(1),\n",
    "    new RubberDuck(3)\n",
    "];"
   ]
  },
  {
   "cell_type": "code",
   "execution_count": 106,
   "id": "c3b964fc",
   "metadata": {},
   "outputs": [
    {
     "name": "stdout",
     "output_type": "stream",
     "text": [
      "Quack!\n",
      "Quack!\n",
      "...\n",
      "Squeak\n"
     ]
    }
   ],
   "source": [
    "for (let duck of allDucks){\n",
    "    duck.quack()\n",
    "}"
   ]
  },
  {
   "cell_type": "code",
   "execution_count": null,
   "id": "23468b19",
   "metadata": {},
   "outputs": [],
   "source": []
  },
  {
   "cell_type": "code",
   "execution_count": null,
   "id": "c079d0b7",
   "metadata": {},
   "outputs": [],
   "source": []
  },
  {
   "cell_type": "code",
   "execution_count": null,
   "id": "ba984c17",
   "metadata": {},
   "outputs": [],
   "source": []
  },
  {
   "cell_type": "code",
   "execution_count": null,
   "id": "a4b9507f",
   "metadata": {},
   "outputs": [],
   "source": []
  },
  {
   "cell_type": "markdown",
   "id": "63a55ff8",
   "metadata": {},
   "source": [
    "<a id=\"mpoly\"></a>\n",
    "\n",
    "### More Polymorphism"
   ]
  },
  {
   "cell_type": "markdown",
   "id": "0af97308",
   "metadata": {},
   "source": [
    "We can now use the parent class of duck to declare all our duck types and expect the all same abilities to work on each instance of duck"
   ]
  },
  {
   "cell_type": "code",
   "execution_count": null,
   "id": "7432af60",
   "metadata": {},
   "outputs": [],
   "source": []
  },
  {
   "cell_type": "code",
   "execution_count": null,
   "id": "8c3d1373",
   "metadata": {},
   "outputs": [],
   "source": []
  },
  {
   "cell_type": "markdown",
   "id": "ba6362fa",
   "metadata": {},
   "source": [
    "We also have the ability to change the implementations with this set up.  Lets make a RubberDuck learn to fly"
   ]
  },
  {
   "cell_type": "code",
   "execution_count": null,
   "id": "2b2e90c2",
   "metadata": {},
   "outputs": [],
   "source": []
  },
  {
   "cell_type": "markdown",
   "id": "f81a9dcd",
   "metadata": {},
   "source": [
    "<a id=\"ptoi\"></a>\n",
    "\n",
    "#### Programming To Interface"
   ]
  },
  {
   "cell_type": "markdown",
   "id": "6349da36",
   "metadata": {},
   "source": [
    "This design can be further improved, but it is a quite flexible design.  What we are learning is the idea of <b>Programming to Interface</b>.  This is the idea could really be stated <b>program to a supertype</b>.  The declared type of the variables should be a supertype, usually an abstract class or interface, so that the objects assiged to those variables can be of any concrete implementation of the supertype, which means the decalring class doesn't have to know about the object types! "
   ]
  },
  {
   "cell_type": "markdown",
   "id": "30151a8c",
   "metadata": {},
   "source": [
    "<a id=\"xi\"></a>\n",
    "\n",
    "### Extending Interfaces"
   ]
  },
  {
   "cell_type": "markdown",
   "id": "dc69d9ac",
   "metadata": {},
   "source": [
    "An interface can also be used alot like a type.  The main difference here is an interface describes the object while a type defines the object.  \n",
    "\n",
    "In TypeScript, We can even extend interfaces with the extends keyword."
   ]
  },
  {
   "cell_type": "code",
   "execution_count": null,
   "id": "ff623c9d",
   "metadata": {},
   "outputs": [],
   "source": [
    "\n"
   ]
  },
  {
   "cell_type": "code",
   "execution_count": null,
   "id": "d046f74f",
   "metadata": {},
   "outputs": [],
   "source": []
  },
  {
   "cell_type": "markdown",
   "id": "f9ccb324",
   "metadata": {},
   "source": [
    "<a id=\"gen\"></a>\n",
    "\n",
    "# Generics"
   ]
  },
  {
   "cell_type": "markdown",
   "id": "dc53bdb4",
   "metadata": {},
   "source": [
    "Sometimes we want to allow for all sorts of types for our variables.  We know using an `any` type is bad practice, so how can we accomplish this?  With the use of Generics!"
   ]
  },
  {
   "cell_type": "markdown",
   "id": "8a7ed16e",
   "metadata": {},
   "source": [
    "\n",
    "<a id=\"gf\"></a>\n",
    "### Generic Functions"
   ]
  },
  {
   "cell_type": "markdown",
   "id": "bb7b8e76",
   "metadata": {},
   "source": [
    "To create a generic function we will append the class name with `<` `placeholder to represent any type` `>` and we type the parameters with the placeholder.\n",
    "\n",
    "\n",
    "This is very similar to how this is done in C++.\n",
    "\n",
    "You will often see the placeholder labeled as `T` this stands for Template Class, but you can use anything you want here, but I would keep it to a single letter.\n",
    "\n",
    "When calling the function we can gernally just use our argument like normal, but if for some reason the compiler is unsure of our type we can append  `<` `Generic Type Placeholder` `>` after the name of the function"
   ]
  },
  {
   "cell_type": "code",
   "execution_count": null,
   "id": "c695dce8",
   "metadata": {},
   "outputs": [],
   "source": []
  },
  {
   "cell_type": "code",
   "execution_count": null,
   "id": "eaa986f2",
   "metadata": {},
   "outputs": [],
   "source": []
  },
  {
   "cell_type": "code",
   "execution_count": null,
   "id": "918e6190",
   "metadata": {},
   "outputs": [],
   "source": []
  },
  {
   "cell_type": "code",
   "execution_count": null,
   "id": "4ae3eab3",
   "metadata": {},
   "outputs": [],
   "source": []
  },
  {
   "cell_type": "code",
   "execution_count": null,
   "id": "3722783a",
   "metadata": {},
   "outputs": [],
   "source": []
  },
  {
   "cell_type": "code",
   "execution_count": null,
   "id": "e4236204",
   "metadata": {},
   "outputs": [],
   "source": []
  },
  {
   "cell_type": "markdown",
   "id": "80ced257",
   "metadata": {},
   "source": [
    "<a id=\"gc\"></a>\n",
    "\n",
    "### Generic Classes"
   ]
  },
  {
   "cell_type": "markdown",
   "id": "3a63bbfa",
   "metadata": {},
   "source": [
    "To create a generic class we will append the class name with `<` `placeholder to represent any type` `>` and we type the parameters with the placeholder.\n"
   ]
  },
  {
   "cell_type": "code",
   "execution_count": null,
   "id": "211605b9",
   "metadata": {},
   "outputs": [],
   "source": []
  },
  {
   "cell_type": "code",
   "execution_count": null,
   "id": "679e8b57",
   "metadata": {},
   "outputs": [],
   "source": [
    "// Will not work, because we said T is a number"
   ]
  },
  {
   "cell_type": "code",
   "execution_count": null,
   "id": "fb6424dd",
   "metadata": {},
   "outputs": [],
   "source": [
    "// Will not work, because we said T is a string"
   ]
  },
  {
   "cell_type": "code",
   "execution_count": null,
   "id": "8f14dd0e",
   "metadata": {},
   "outputs": [],
   "source": []
  },
  {
   "cell_type": "markdown",
   "id": "fd86d562",
   "metadata": {},
   "source": [
    "<a id=\"mg\"></a>\n",
    "\n",
    "### Multiple Generics"
   ]
  },
  {
   "cell_type": "code",
   "execution_count": null,
   "id": "714e3824",
   "metadata": {},
   "outputs": [],
   "source": []
  },
  {
   "cell_type": "code",
   "execution_count": null,
   "id": "24235cd8",
   "metadata": {},
   "outputs": [],
   "source": []
  },
  {
   "cell_type": "code",
   "execution_count": null,
   "id": "8819d5c8",
   "metadata": {},
   "outputs": [],
   "source": []
  },
  {
   "cell_type": "markdown",
   "id": "773d4a1e",
   "metadata": {},
   "source": [
    "<a id=\"gi\"></a>\n",
    "\n",
    "### Generic Interfaces"
   ]
  },
  {
   "cell_type": "markdown",
   "id": "d53dac1e",
   "metadata": {},
   "source": [
    "The following code will error when ran.  Be sure to use the autocomplete to see the effect of generics."
   ]
  },
  {
   "cell_type": "code",
   "execution_count": null,
   "id": "8ac7c9df",
   "metadata": {},
   "outputs": [],
   "source": []
  },
  {
   "cell_type": "code",
   "execution_count": null,
   "id": "542b8124",
   "metadata": {},
   "outputs": [],
   "source": []
  },
  {
   "cell_type": "code",
   "execution_count": null,
   "id": "b83cb3b8",
   "metadata": {},
   "outputs": [],
   "source": []
  },
  {
   "cell_type": "code",
   "execution_count": null,
   "id": "6752a880",
   "metadata": {},
   "outputs": [],
   "source": []
  },
  {
   "cell_type": "markdown",
   "id": "6ebd51fd",
   "metadata": {},
   "source": [
    "<a id=\"gcon\"></a>\n",
    "\n",
    "### Generic Constraints"
   ]
  },
  {
   "cell_type": "markdown",
   "id": "ead2164b",
   "metadata": {},
   "source": [
    "Maybe we want to write a generic function that works with all ducks that extend the `Quacks` ability class we created earlier.  We can do this by saying `T extends Quacks`"
   ]
  },
  {
   "cell_type": "code",
   "execution_count": null,
   "id": "fce0c6aa",
   "metadata": {},
   "outputs": [],
   "source": []
  },
  {
   "cell_type": "markdown",
   "id": "4506b01e",
   "metadata": {},
   "source": [
    "<a id=\"keyof\"></a>\n",
    "\n",
    "### keyof"
   ]
  },
  {
   "cell_type": "markdown",
   "id": "1ab83d2e",
   "metadata": {},
   "source": [
    "Sometime we need to work with the keys of an object, and if any string is allowed TypeScript could give us and Error (We won't go into these circumstances for brevity), so the `keyof` Operator restricts our options only to valid keys"
   ]
  },
  {
   "cell_type": "code",
   "execution_count": null,
   "id": "90553670",
   "metadata": {},
   "outputs": [],
   "source": []
  },
  {
   "cell_type": "markdown",
   "id": "7490bba5",
   "metadata": {},
   "source": [
    "<a id=\"typemap\"></a>\n",
    "\n",
    "### Type Mapping"
   ]
  },
  {
   "cell_type": "markdown",
   "id": "ca595a1a",
   "metadata": {},
   "source": [
    "Imagine we have an interface and all the properties are required.  Now lets imagine we need another version of this interface that allow all the properties to be optional.  We still need our original Required Interface, so we can't edit that and make the properties optional.  We could create a second Interface will all the same properties and make them optional.  This make a ton of work for us to maintain the interface because now we have to add properties in two locations.  The Solution for this is <b>Type Mapping</b>\n",
    "\n",
    "This will take use of two tools we have already learned `keyof` and <b>Type Signatures</b>"
   ]
  },
  {
   "cell_type": "code",
   "execution_count": null,
   "id": "a2bf65e5",
   "metadata": {},
   "outputs": [],
   "source": []
  },
  {
   "cell_type": "markdown",
   "id": "cdf744f4",
   "metadata": {},
   "source": [
    "<a id=\"optgen\"></a>\n",
    "\n",
    "### Optional&lt;T&gt;"
   ]
  },
  {
   "cell_type": "code",
   "execution_count": null,
   "id": "42f0b164",
   "metadata": {},
   "outputs": [],
   "source": [
    "// Everything in the garage interface is required\n",
    "\n",
    "\n",
    "\n",
    "//Type Mapping works by creating a type not interface\n",
    "// It uses Type Signatures along with keyof\n",
    "// remember a ? at the end makes something optional\n"
   ]
  },
  {
   "cell_type": "code",
   "execution_count": null,
   "id": "a3d3e285",
   "metadata": {},
   "outputs": [],
   "source": []
  },
  {
   "cell_type": "code",
   "execution_count": null,
   "id": "acc519a8",
   "metadata": {},
   "outputs": [],
   "source": []
  },
  {
   "cell_type": "markdown",
   "id": "86d05f8b",
   "metadata": {},
   "source": [
    "<a id=\"rogen\"></a>\n",
    "\n",
    "### ReadOnly&lt;T&gt;"
   ]
  },
  {
   "cell_type": "markdown",
   "id": "8390aa0f",
   "metadata": {},
   "source": [
    "This will only work for Garage types, but with generics we can make this work for any type.  Instead of making it optional this time lets make it Read Only"
   ]
  },
  {
   "cell_type": "code",
   "execution_count": null,
   "id": "7060c349",
   "metadata": {},
   "outputs": [],
   "source": []
  },
  {
   "cell_type": "code",
   "execution_count": null,
   "id": "51d59cc6",
   "metadata": {},
   "outputs": [],
   "source": []
  },
  {
   "cell_type": "code",
   "execution_count": null,
   "id": "fbe735e0",
   "metadata": {},
   "outputs": [],
   "source": []
  },
  {
   "cell_type": "code",
   "execution_count": null,
   "id": "ba519d96",
   "metadata": {},
   "outputs": [],
   "source": []
  },
  {
   "cell_type": "code",
   "execution_count": null,
   "id": "b85b8d7b",
   "metadata": {},
   "outputs": [],
   "source": []
  },
  {
   "cell_type": "code",
   "execution_count": null,
   "id": "098c023f",
   "metadata": {},
   "outputs": [],
   "source": []
  },
  {
   "cell_type": "markdown",
   "id": "f3bad45f",
   "metadata": {},
   "source": [
    "<a id=\"util\"></a>\n",
    "\n",
    "### Built in Utility Types"
   ]
  },
  {
   "cell_type": "markdown",
   "id": "1420aa0b",
   "metadata": {},
   "source": [
    "The good news is we don't have to write this code normally because TypeScript provides a whole library of these utility types.\n",
    "\n",
    "[https://www.typescriptlang.org/docs/handbook/utility-types.html](https://www.typescriptlang.org/docs/handbook/utility-types.html)"
   ]
  },
  {
   "cell_type": "code",
   "execution_count": null,
   "id": "d8c5ca28",
   "metadata": {},
   "outputs": [],
   "source": []
  },
  {
   "cell_type": "code",
   "execution_count": null,
   "id": "72f2a467",
   "metadata": {},
   "outputs": [],
   "source": []
  },
  {
   "cell_type": "code",
   "execution_count": null,
   "id": "eb09c1b2",
   "metadata": {},
   "outputs": [],
   "source": []
  },
  {
   "cell_type": "markdown",
   "id": "50c06538",
   "metadata": {},
   "source": [
    "<a id=\"hw\"></a>\n",
    "\n",
    "## Homework"
   ]
  },
  {
   "cell_type": "markdown",
   "id": "b45b6bd2",
   "metadata": {},
   "source": [
    "Design a flexible OOP system to describe characters in a RPG game\n",
    "\n",
    "There are 4 Unique Characters which use Different Types of Attacking mechanisms and Defending mechanisms.\n",
    "\n",
    "- Orges - fights with club and defends with shield\n",
    "- Peons - fights with club and defends with shield\n",
    "- Knights - fights with a Sword and defends with Armor\n",
    "- Archer - fights with Bow and Arrow and has only is tunic to protect them\n",
    "\n",
    "- All Characters can collect gold and this will always be the same for every new type of character\n",
    "\n",
    "At the end of this each character should be able to attack and defend and collect gold. If needed any character should be able to change his fighting style, say if a knight losing his sword, but finds a club he should be able to change his fighting mechanism to use the club\n",
    "\n",
    "<b>Hint: </b> To complete this assignment you will need multiple classes and interfaces and an Abstract class\n",
    "\n",
    "You can use our [Final Rubber Ducky Walkthrough](#rubber) example as a guide "
   ]
  },
  {
   "cell_type": "code",
   "execution_count": 127,
   "id": "34f42c98",
   "metadata": {},
   "outputs": [],
   "source": [
    "//Solution\n",
    "\n",
    "interface Fightable {\n",
    "    fight(): void\n",
    "}\n",
    "\n",
    "class FightWithASword implements Fightable {\n",
    "    fight():void {\n",
    "        console.log(\"I fight with a sword\")\n",
    "    }\n",
    "}\n",
    "\n",
    "class FightWithAClub implements Fightable {\n",
    "    fight():void {\n",
    "        console.log(\"I fight with a club\")\n",
    "    }\n",
    "}\n",
    "\n",
    "class FightWithABowAndArrow implements Fightable {\n",
    "    fight():void {\n",
    "        console.log(\"I fight with a bow and arrow\")\n",
    "    }\n",
    "}\n",
    "\n",
    "interface Defendable {\n",
    "    defend(): void\n",
    "}\n",
    "\n",
    "class DefendWithAShield implements Defendable {\n",
    "    defend(): void {\n",
    "        console.log(\"I defend with a sheild\")\n",
    "    }\n",
    "}\n",
    "\n",
    "class DefendWithArmor implements Defendable {\n",
    "    defend(): void {\n",
    "        console.log(\"I defend with my armour\")\n",
    "    }\n",
    "}\n",
    "\n",
    "class DefendWithATunic implements Defendable {\n",
    "    defend(): void {\n",
    "        console.log(\"I defend with my tunic\")\n",
    "    }\n",
    "}\n",
    "\n"
   ]
  },
  {
   "cell_type": "code",
   "execution_count": 112,
   "id": "4030b015",
   "metadata": {},
   "outputs": [],
   "source": [
    "abstract class Character implements Fightable, Defendable {\n",
    "    private gold: number = 0\n",
    "    protected fightAbility$: Fightable\n",
    "    protected defendAbility$: Defendable\n",
    "    \n",
    "    constructor(){\n",
    "        this.gold = 0\n",
    "    }\n",
    "    \n",
    "    collect_gold(amount):void {\n",
    "        this.gold += amount\n",
    "        console.log(\"I now have\", this.gold, \"gold\")\n",
    "    }\n",
    "    \n",
    "    fight(): void {\n",
    "        this.fightAbility$.fight()\n",
    "    }\n",
    "    \n",
    "    defend(): void {\n",
    "        this.defendAbility$.defend()\n",
    "    }\n",
    "    \n",
    "    set fightAbility(fa: Fightable) {\n",
    "        this.fightAbility$ = fa\n",
    "    }\n",
    "    \n",
    "    set defendAbility(da: Defendable) {\n",
    "        this.defendAbility$ = da\n",
    "    }\n",
    "}"
   ]
  },
  {
   "cell_type": "code",
   "execution_count": 130,
   "id": "935d578f",
   "metadata": {},
   "outputs": [
    {
     "name": "stdout",
     "output_type": "stream",
     "text": [
      "I fight with a club\n",
      "I defend with a sheild\n",
      "I fight with a club\n",
      "I defend with a sheild\n",
      "I fight with a sword\n",
      "I defend with my armour\n",
      "I fight with a bow and arrow\n",
      "I defend with my tunic\n"
     ]
    }
   ],
   "source": [
    "class Orge extends Character {\n",
    "    fightAbility$ = new FightWithAClub()\n",
    "    defendAbility$ = new DefendWithAShield()\n",
    "}\n",
    "\n",
    "class Peon extends Character {\n",
    "    fightAbility$ = new FightWithAClub()\n",
    "    defendAbility$ = new DefendWithAShield()\n",
    "}\n",
    "\n",
    "class Knight extends Character {\n",
    "    fightAbility$ = new FightWithASword()\n",
    "    defendAbility$ = new DefendWithArmor()\n",
    "}\n",
    "\n",
    "class Archer extends Character {\n",
    "    fightAbility$ = new FightWithABowAndArrow()\n",
    "    defendAbility$ = new DefendWithATunic()\n",
    "}\n",
    "\n",
    "let orge = new Orge()\n",
    "let peon = new Peon()\n",
    "let knight = new Knight()\n",
    "let archer = new Archer()\n",
    "\n",
    "const characters: Character[] = [orge, peon, knight, archer]\n",
    "\n",
    "for(let char of characters) {\n",
    "    char.fight()\n",
    "    char.defend()\n",
    "    char.collect_gold(20)\n",
    "}\n",
    "// console.log(orge)\n",
    "// orge.fight()\n",
    "// orge.fightAbility$ = new FightWithAClub()\n",
    "// orge.fight()\n",
    "// orge.collect_gold(20)\n",
    "// orge"
   ]
  },
  {
   "cell_type": "code",
   "execution_count": null,
   "id": "df836274",
   "metadata": {},
   "outputs": [],
   "source": []
  },
  {
   "cell_type": "code",
   "execution_count": null,
   "id": "15a6f822",
   "metadata": {},
   "outputs": [],
   "source": []
  },
  {
   "cell_type": "code",
   "execution_count": null,
   "id": "279f4f68",
   "metadata": {},
   "outputs": [],
   "source": []
  }
 ],
 "metadata": {
  "kernelspec": {
   "display_name": "TypeScript",
   "language": "typescript",
   "name": "tslab"
  },
  "language_info": {
   "codemirror_mode": {
    "mode": "typescript",
    "name": "javascript",
    "typescript": true
   },
   "file_extension": ".ts",
   "mimetype": "text/typescript",
   "name": "typescript",
   "version": "3.7.2"
  }
 },
 "nbformat": 4,
 "nbformat_minor": 5
}
